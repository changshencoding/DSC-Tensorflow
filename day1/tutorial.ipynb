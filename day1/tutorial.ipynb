{
 "cells": [
  {
   "cell_type": "code",
   "execution_count": 1,
   "metadata": {},
   "outputs": [],
   "source": [
    "# 變數宣告\n",
    "a = 10\n",
    "b = 3.14\n",
    "c = \"python tutorial\"\n",
    "d = True\n",
    "e = None"
   ]
  },
  {
   "cell_type": "code",
   "execution_count": 2,
   "metadata": {},
   "outputs": [
    {
     "name": "stdout",
     "output_type": "stream",
     "text": [
      "10 3.14 python tutorial True None\n",
      "<class 'int'>\n",
      "<class 'float'>\n",
      "<class 'str'>\n",
      "<class 'bool'>\n",
      "<class 'NoneType'>\n"
     ]
    }
   ],
   "source": [
    "# 列印型別\n",
    "print(a, b, c, d, e)\n",
    "print(type(a))\n",
    "print(type(b))\n",
    "print(type(c))\n",
    "print(type(d))\n",
    "print(type(e))"
   ]
  },
  {
   "cell_type": "code",
   "execution_count": 3,
   "metadata": {},
   "outputs": [
    {
     "name": "stdout",
     "output_type": "stream",
     "text": [
      "please enter your namejason\n",
      "Hi jason!!\n"
     ]
    }
   ],
   "source": [
    "# input function\n",
    "name = input(\"please enter your name\")\n",
    "print(\"Hi \" + name + \"!!\")"
   ]
  },
  {
   "cell_type": "code",
   "execution_count": 4,
   "metadata": {},
   "outputs": [],
   "source": [
    "x = 25\n",
    "y = 10"
   ]
  },
  {
   "cell_type": "code",
   "execution_count": 5,
   "metadata": {},
   "outputs": [
    {
     "name": "stdout",
     "output_type": "stream",
     "text": [
      "35\n",
      "15\n",
      "250\n",
      "2.5\n",
      "2\n",
      "5\n",
      "95367431640625\n"
     ]
    }
   ],
   "source": [
    "# 數學運算子\n",
    "print(x + y)\n",
    "print(x - y)\n",
    "print(x * y)\n",
    "print(x / y)\n",
    "print(x // y)\n",
    "print(x % y)\n",
    "print(x ** y)"
   ]
  },
  {
   "cell_type": "code",
   "execution_count": 6,
   "metadata": {},
   "outputs": [
    {
     "name": "stdout",
     "output_type": "stream",
     "text": [
      "Good enough!\n"
     ]
    }
   ],
   "source": [
    "# 流程控制(if...else)\n",
    "grade = 75\n",
    "\n",
    "if grade >= 90:\n",
    "    print('Excellent!')\n",
    "elif grade >= 60:\n",
    "    print('Good enough!')\n",
    "else:\n",
    "    print('Loser!')"
   ]
  },
  {
   "cell_type": "markdown",
   "metadata": {},
   "source": [
    "1. 一個if...else區塊，只要其中一個條件成立，程式就會離開這個區塊。\n",
    "2. 條件不需要放()之中\n",
    "3. 每個條件後面記得要有:\n",
    "4. 條件成立要做的事情，要以縮排的方式放在條件句底下\n",
    "5. else if在Python寫作elif"
   ]
  },
  {
   "cell_type": "code",
   "execution_count": 7,
   "metadata": {},
   "outputs": [
    {
     "name": "stdout",
     "output_type": "stream",
     "text": [
      "False\n",
      "False\n",
      "True\n",
      "True\n",
      "False\n",
      "True\n"
     ]
    }
   ],
   "source": [
    "# 比較運算子\n",
    "print(x < y)\n",
    "print(x <= y)\n",
    "print(x > y)\n",
    "print(x >= y)\n",
    "print(x == y)\n",
    "print(x != y)"
   ]
  },
  {
   "cell_type": "code",
   "execution_count": 8,
   "metadata": {},
   "outputs": [],
   "source": [
    "a = True\n",
    "b = False"
   ]
  },
  {
   "cell_type": "code",
   "execution_count": 9,
   "metadata": {},
   "outputs": [
    {
     "name": "stdout",
     "output_type": "stream",
     "text": [
      "True\n",
      "False\n",
      "False\n",
      "True\n"
     ]
    }
   ],
   "source": [
    "# 布林運算子\n",
    "print(a or b)\n",
    "print(a and b)\n",
    "print(not a)\n",
    "print(not b)"
   ]
  },
  {
   "cell_type": "code",
   "execution_count": 10,
   "metadata": {},
   "outputs": [
    {
     "name": "stdout",
     "output_type": "stream",
     "text": [
      "big dude\n",
      "noraml\n"
     ]
    }
   ],
   "source": [
    "h = 180\n",
    "w = 85\n",
    "grade = 80\n",
    "\n",
    "if h > 175 or w > 80:\n",
    "    print('big dude')\n",
    "\n",
    "if grade > 70 and grade < 90:\n",
    "    print('noraml')"
   ]
  },
  {
   "cell_type": "code",
   "execution_count": 11,
   "metadata": {},
   "outputs": [],
   "source": [
    "#----------------------------------------------------------"
   ]
  },
  {
   "cell_type": "markdown",
   "metadata": {},
   "source": [
    "##### Range這個型別可用來創建並儲存特定範圍內的整數，故得名Range。\n",
    "##### 必須特別注意的是，一旦Range被創建了，裡面的內容是不可修改的\n",
    "##### 在Python中，我們有幾個方法可以創造Range。\n",
    "\n",
    "* Range(stop)\n",
    ">- stop：停止點\n",
    "*　Range(start, stop)\n",
    ">- start：起始點\n",
    ">- stop：停止點\n",
    "* Range(start, stop, step)\n",
    ">- start：起始點\n",
    ">- stop：停止點\n",
    ">- step：間隔"
   ]
  },
  {
   "cell_type": "code",
   "execution_count": 12,
   "metadata": {},
   "outputs": [
    {
     "name": "stdout",
     "output_type": "stream",
     "text": [
      "<class 'range'>\n",
      "range(0, 10)\n",
      "range(5, 50, 5)\n"
     ]
    }
   ],
   "source": [
    "r1 = range(10)\n",
    "r2 = range(5, 50, 5)\n",
    "\n",
    "print(type(r1))\n",
    "print(r1)\n",
    "print(r2)"
   ]
  },
  {
   "cell_type": "markdown",
   "metadata": {},
   "source": [
    "##### Tuple可用來存放一組資料。\n",
    "##### 這組資料的個數不限，型別也不須相同。\n",
    "##### 同Range，一旦被創造，將無法修改內容。\n",
    "##### 值與值之間，要以,隔開。"
   ]
  },
  {
   "cell_type": "code",
   "execution_count": 13,
   "metadata": {},
   "outputs": [
    {
     "name": "stdout",
     "output_type": "stream",
     "text": [
      "<class 'tuple'>\n",
      "(10, 20)\n",
      "(10, 'hello world')\n"
     ]
    }
   ],
   "source": [
    "t1 = (10, 20)\n",
    "# it can hold different types of data\n",
    "t2 = (10, 'hello world')\n",
    "\n",
    "print(type(t1))\n",
    "print(t1)\n",
    "print(t2)"
   ]
  },
  {
   "cell_type": "markdown",
   "metadata": {},
   "source": [
    "##### List即為Python中的陣列(Array)。\n",
    "##### 陣列是一種容器，可用來儲存眾多資料。與Tuple最大的不同處在於，針對一個以創建的陣列，你可以隨時增加或減少其內部資料的個數，也可以修改裡面的內容。"
   ]
  },
  {
   "cell_type": "code",
   "execution_count": 14,
   "metadata": {},
   "outputs": [
    {
     "name": "stdout",
     "output_type": "stream",
     "text": [
      "10\n",
      "<class 'list'>\n",
      "[10, 2, 3]\n",
      "[10, 'hello world', 8.7]\n"
     ]
    }
   ],
   "source": [
    "arr1 = [1, 2, 3]\n",
    "arr2 = [10, 'hello world', 8.7]\n",
    "arr1[0] = 10\n",
    "print(arr1[0])\n",
    "\n",
    "print(type(arr1))\n",
    "print(arr1)\n",
    "print(arr2)"
   ]
  },
  {
   "cell_type": "markdown",
   "metadata": {},
   "source": [
    "##### 字典（dictionary）是Python中另一個非常有用的內置數據類型。\n",
    "##### 列表是有序的對象集合，字典是無序的對象集合。兩者之間的區別在於：字典當中的元素是通過鍵來存取的，而不是通過偏移存取。\n",
    "##### 字典是一種映射類型，字典用{ }標識，它是一個無序的鍵(key) :值(value)的集合。\n",
    "##### 鍵(key)必須使用不可變類型。\n",
    "##### 在同一個字典中，鍵(key)必須是唯一的。"
   ]
  },
  {
   "cell_type": "code",
   "execution_count": 15,
   "metadata": {},
   "outputs": [
    {
     "name": "stdout",
     "output_type": "stream",
     "text": [
      "1\n",
      "2\n",
      "{'name': 'google', 'code': 1, 'site': 'www.google.com'}\n",
      "dict_keys(['name', 'code', 'site'])\n",
      "dict_values(['google', 1, 'www.google.com'])\n",
      "www.google.com\n"
     ]
    }
   ],
   "source": [
    "dict = { }\n",
    "dict [ 'one' ] = \"1\"\n",
    "dict [ 2 ]     = \"2\"\n",
    "tinydict = { 'name' : 'google' , 'code' : 1 , 'site' : 'www.google.com' }\n",
    "\n",
    "print ( dict [ 'one' ] )\n",
    "print ( dict [ 2 ] )\n",
    "print (tinydict )\n",
    "print ( tinydict. keys ( ) )  \n",
    "print ( tinydict. values ( ) )\n",
    "print(tinydict['site'])"
   ]
  },
  {
   "cell_type": "markdown",
   "metadata": {},
   "source": [
    "##### 基本型別String，也是一種序列型別喔。\n",
    "##### 一個比較好理解的方式為，其實String就像是一堆字元排在一起組合而成的 (字元指的為一個字)。\n",
    "##### 需要注意的是，字串的內容也是不能修改的。"
   ]
  },
  {
   "cell_type": "code",
   "execution_count": 16,
   "metadata": {},
   "outputs": [
    {
     "name": "stdout",
     "output_type": "stream",
     "text": [
      "hello python journey\n",
      "False\n",
      "hello python\n",
      "['hello', 'python', 'journey']\n",
      "hello***python***journey\n"
     ]
    }
   ],
   "source": [
    "str1 = 'hello python'\n",
    "str2 = str1\n",
    "# str2[0] = 'y'\n",
    "# a = a + b could be written as a += b\n",
    "str2 += ' journey'\n",
    "print(str2)\n",
    "print(str2 is str1)\n",
    "\n",
    "print(str1)\n",
    "result = str2.split(' ')\n",
    "print(result)\n",
    "result_back = '***'.join(result)\n",
    "print(result_back)"
   ]
  },
  {
   "cell_type": "markdown",
   "metadata": {},
   "source": [
    "<ul>\n",
    "<li>如果今天想要用兩個字串，組合成一個新的字串，我們可用+來做到這件事</li>\n",
    "<li>假設今天我們想判斷兩個變數是否共享記憶體位置 (判斷兩者是否為同一個人)，可用is來做到</li>\n",
    "<li>兩個很重要String方法一定要知道，split & join</li>\n",
    "<li>split可將一個字串用指定的方式(字串)拆散為陣列。以上述的例子來說，我們將'hello python journy'，以空白' '隔開成陣列，於是他便成了['hello', 'python', 'journey']</li>\n",
    "<li>join可將一個陣列，用指定的方式(字串)組合成字串。以上述的例子來說，我們['hello', 'python', 'journey']用'***'組合，就成了hello***python***journey</li>\n",
    "</ul>"
   ]
  },
  {
   "cell_type": "markdown",
   "metadata": {},
   "source": [
    "##### 若是想從一個序列容器中取出一部份的內容來使用，我們可以用seq[start:stop:step]這樣的語法來達成\n",
    "##### 必需要注意的是，上面的start, stop, step要填入的是元素的index。"
   ]
  },
  {
   "cell_type": "code",
   "execution_count": 17,
   "metadata": {},
   "outputs": [
    {
     "name": "stdout",
     "output_type": "stream",
     "text": [
      "[1, 2, 3, 4, 5]\n",
      "[1, 3, 5, 7, 9]\n",
      "[1, 2, 3, 4, 5, 6, 7, 8, 9, 10]\n",
      "False\n",
      " world\n",
      "[1, 2, 3, 4, 5, 6, 7, 8, 9]\n"
     ]
    }
   ],
   "source": [
    "str1 = 'hello world'\n",
    "arr1 = [1, 2, 3, 4, 5, 6, 7, 8, 9, 10]\n",
    "# mind the stop\n",
    "arr2 = arr1[0:5]\n",
    "# -1 represent the last element\n",
    "arr3 = arr1[0:-1:2]\n",
    "# you can ignore the args...\n",
    "arr4 = arr1[:]\n",
    "\n",
    "print(arr2)\n",
    "print(arr3)\n",
    "print(arr4)\n",
    "print(arr4 is arr1)\n",
    "print(str1[5:])\n",
    "print(arr1[:-1])"
   ]
  },
  {
   "cell_type": "markdown",
   "metadata": {},
   "source": [
    "<ui>\n",
    "<li>step不給預設為1</li>\n",
    "<li>遇到stop則停止取出，所以index為stop的元素不會被取出</li>\n",
    "<li>可用-1代表最後一個元素的index</li>\n",
    "<li>start不給則預設為0</li>\n",
    "<li>stop不給則會將start之後的元素都取出</li>\n",
    "<li>seq[start:stop:step]會製造新的容器，因此他們不共享記憶體位置</li>\n",
    "</ui>"
   ]
  },
  {
   "cell_type": "code",
   "execution_count": 18,
   "metadata": {},
   "outputs": [
    {
     "name": "stdout",
     "output_type": "stream",
     "text": [
      "0\n",
      "1\n",
      "2\n",
      "3\n",
      "4\n",
      "5\n",
      "6\n",
      "7\n",
      "8\n",
      "9\n",
      "***\n",
      "\n",
      "2\n",
      "4\n",
      "6\n",
      "8\n",
      "10\n",
      "***\n",
      "\n",
      "2\n",
      "4\n",
      "6\n",
      "8\n",
      "10\n",
      "***\n",
      "\n",
      "h\n",
      "e\n",
      "l\n",
      "l\n",
      "o\n",
      " \n",
      "p\n",
      "y\n",
      "t\n",
      "h\n",
      "o\n",
      "n\n",
      "***\n",
      "\n"
     ]
    }
   ],
   "source": [
    "# 迴圈\n",
    "arr1 = [2, 4, 6, 8, 10]\n",
    "str1 = 'hello python'\n",
    "\n",
    "for i in range(10):\n",
    "    print(i)\n",
    "print('***\\n')\n",
    "\n",
    "for i in range(len(arr1)):\n",
    "    print(arr1[i])\n",
    "print('***\\n')\n",
    "\n",
    "for i in arr1:\n",
    "    print(i)\n",
    "print('***\\n')\n",
    "\n",
    "for i in str1:\n",
    "    print(i)\n",
    "print('***\\n')"
   ]
  },
  {
   "cell_type": "code",
   "execution_count": 19,
   "metadata": {},
   "outputs": [],
   "source": [
    "# import package\n",
    "\n",
    "# standard import\n",
    "import time\n",
    "\n",
    "# import and give alias\n",
    "import random as rd\n",
    "import numpy as np\n",
    "\n",
    "# precise imoprt\n",
    "from pathlib import Path\n",
    "\n",
    "# useless statement\n",
    "from datetime import *"
   ]
  },
  {
   "cell_type": "markdown",
   "metadata": {},
   "source": [
    "<ol>\n",
    "<li>使用import關鍵字引入模組</li>\n",
    "<li>可引入模組後，用as幫他取暱稱，這樣就可以不用打又臭又長的套件名稱</li>\n",
    "<li>可使用import ... from ...的語法，從某套件中拿出特定的功能</li>\n",
    "<li>最後一個方法感覺很糟，會汙染全域，建議不要使用</li>\n",
    "</ol>"
   ]
  },
  {
   "cell_type": "code",
   "execution_count": 20,
   "metadata": {},
   "outputs": [
    {
     "name": "stdout",
     "output_type": "stream",
     "text": [
      "hello python\n"
     ]
    }
   ],
   "source": [
    "# function\n",
    "def hello():\n",
    "    print(\"hello python\")\n",
    "    \n",
    "hello()"
   ]
  },
  {
   "cell_type": "code",
   "execution_count": null,
   "metadata": {},
   "outputs": [],
   "source": []
  }
 ],
 "metadata": {
  "kernelspec": {
   "display_name": "Python 3",
   "language": "python",
   "name": "python3"
  },
  "language_info": {
   "codemirror_mode": {
    "name": "ipython",
    "version": 3
   },
   "file_extension": ".py",
   "mimetype": "text/x-python",
   "name": "python",
   "nbconvert_exporter": "python",
   "pygments_lexer": "ipython3",
   "version": "3.7.0"
  }
 },
 "nbformat": 4,
 "nbformat_minor": 4
}
